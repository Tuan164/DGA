{
  "cells": [
    {
      "cell_type": "markdown",
      "metadata": {
        "id": "view-in-github",
        "colab_type": "text"
      },
      "source": [
        "<a href=\"https://colab.research.google.com/github/Tuan164/DGA/blob/main/Predict_DGA.ipynb\" target=\"_parent\"><img src=\"https://colab.research.google.com/assets/colab-badge.svg\" alt=\"Open In Colab\"/></a>"
      ]
    },
    {
      "cell_type": "code",
      "source": [
        "!git clone https://github.com/sudo-rushil/dgaintel.git"
      ],
      "metadata": {
        "colab": {
          "base_uri": "https://localhost:8080/"
        },
        "id": "W9kM1sQZ9KkN",
        "outputId": "99748dd4-95a0-4828-e1e8-7980ae3ed987"
      },
      "execution_count": 1,
      "outputs": [
        {
          "output_type": "stream",
          "name": "stdout",
          "text": [
            "Cloning into 'dgaintel'...\n",
            "remote: Enumerating objects: 165, done.\u001b[K\n",
            "remote: Counting objects: 100% (165/165), done.\u001b[K\n",
            "remote: Compressing objects: 100% (115/115), done.\u001b[K\n",
            "remote: Total 165 (delta 88), reused 116 (delta 42), pack-reused 0\u001b[K\n",
            "Receiving objects: 100% (165/165), 11.62 MiB | 6.34 MiB/s, done.\n",
            "Resolving deltas: 100% (88/88), done.\n"
          ]
        }
      ]
    },
    {
      "cell_type": "code",
      "source": [
        "!cd dgaintel/dgaintel && python3 predict.py"
      ],
      "metadata": {
        "colab": {
          "base_uri": "https://localhost:8080/"
        },
        "id": "h7Qeok459RRs",
        "outputId": "287a8489-20d8-4c13-856f-1528eed8df40"
      },
      "execution_count": 3,
      "outputs": [
        {
          "output_type": "stream",
          "name": "stdout",
          "text": [
            "2022-07-16 08:46:42.995584: W tensorflow/core/common_runtime/gpu/gpu_bfc_allocator.cc:39] Overriding allow_growth setting because the TF_FORCE_GPU_ALLOW_GROWTH environment variable is set. Original config value was 0.\n",
            "microsoft.com is genuine with probability 0.000184\n",
            "squarespace.com is genuine with probability 0.000114\n",
            "hsfkjdshfjasdhfk.com is DGA with probability 0.999920\n",
            "fdkhakshfda.com is DGA with probability 0.968190\n",
            "foilfencersarebad.com is genuine with probability 0.000100\n",
            "discojjfdsf.com is DGA with probability 0.999648\n",
            "fasddafhkj.com is DGA with probability 0.995012\n",
            "wikipedai.com is genuine with probability 0.000952\n"
          ]
        }
      ]
    }
  ],
  "metadata": {
    "colab": {
      "collapsed_sections": [],
      "name": "Predict DGA",
      "provenance": [],
      "include_colab_link": true
    },
    "kernelspec": {
      "display_name": "Python 3",
      "name": "python3"
    },
    "accelerator": "GPU"
  },
  "nbformat": 4,
  "nbformat_minor": 0
}